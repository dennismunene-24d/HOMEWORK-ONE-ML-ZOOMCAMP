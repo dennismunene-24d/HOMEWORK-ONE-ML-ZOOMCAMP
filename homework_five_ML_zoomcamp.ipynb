{
 "cells": [
  {
   "cell_type": "code",
   "execution_count": 1,
   "id": "6dc4f18e-88dd-4de4-9b30-50b4af7c2a20",
   "metadata": {},
   "outputs": [
    {
     "name": "stdout",
     "output_type": "stream",
     "text": [
      "Requirement already satisfied: pickleshare in c:\\users\\hp\\anaconda3\\envs\\joseportilapyml\\lib\\site-packages (0.7.5)\n",
      "Note: you may need to restart the kernel to use updated packages.\n"
     ]
    }
   ],
   "source": [
    "pip install pickleshare"
   ]
  },
  {
   "cell_type": "markdown",
   "id": "6bf5abb8-e196-4172-8c5c-8e79446091bd",
   "metadata": {},
   "source": [
    "## Question 1\n",
    "\n",
    "* Install `uv`\n",
    "* What's the version of uv you installed?\n",
    "* Use `--version` to find out"
   ]
  },
  {
   "cell_type": "code",
   "execution_count": 2,
   "id": "fc48b6d0-b2d7-4366-9110-e98d99e1d666",
   "metadata": {},
   "outputs": [
    {
     "name": "stdout",
     "output_type": "stream",
     "text": [
      "Requirement already satisfied: uv in c:\\users\\hp\\anaconda3\\envs\\joseportilapyml\\lib\\site-packages (0.9.5)\n",
      "Note: you may need to restart the kernel to use updated packages.\n"
     ]
    }
   ],
   "source": [
    "pip install uv"
   ]
  },
  {
   "cell_type": "code",
   "execution_count": 3,
   "id": "6e1e90b3-4af4-4da2-bcb1-b20e04eab92a",
   "metadata": {},
   "outputs": [
    {
     "name": "stdout",
     "output_type": "stream",
     "text": [
      "uv 0.9.5 (d5f39331a 2025-10-21)\n"
     ]
    }
   ],
   "source": [
    "!uv --version"
   ]
  },
  {
   "cell_type": "code",
   "execution_count": 4,
   "id": "3bac70d7-61d8-41d7-9b14-9d1dcdd9821f",
   "metadata": {},
   "outputs": [
    {
     "name": "stderr",
     "output_type": "stream",
     "text": [
      "\u001b[2mResolved \u001b[1m6 packages\u001b[0m \u001b[2min 21ms\u001b[0m\u001b[0m\n",
      "\u001b[2mAudited \u001b[1m5 packages\u001b[0m \u001b[2min 1ms\u001b[0m\u001b[0m\n"
     ]
    }
   ],
   "source": [
    "!uv add scikit-learn\n"
   ]
  },
  {
   "cell_type": "code",
   "execution_count": 5,
   "id": "2adcb20f-3a51-47b4-ac71-d9d720cabbd3",
   "metadata": {},
   "outputs": [
    {
     "name": "stdout",
     "output_type": "stream",
     "text": [
      "C:\\Users\\HP\\Desktop\\Machine_Learning_Zoomcamp\\machine-learning-zoomcamp-master\\05-deployment\n"
     ]
    }
   ],
   "source": [
    "cd \"C:\\Users\\HP\\Desktop\\Machine_Learning_Zoomcamp\\machine-learning-zoomcamp-master\\05-deployment\""
   ]
  },
  {
   "cell_type": "markdown",
   "id": "7bb30755-4a15-4212-9d4e-5413b7cd5a6e",
   "metadata": {},
   "source": [
    "\n",
    "## Question 2\n",
    "\n",
    "* Use uv to install Scikit-Learn version 1.6.1 \n",
    "* What's the first hash for Scikit-Learn you get in the lock file?\n",
    "* Include the entire string starting with sha256:, don't include quotes"
   ]
  },
  {
   "cell_type": "code",
   "execution_count": 7,
   "id": "cc15ecdf-7eab-4e74-893e-5a692e41510d",
   "metadata": {},
   "outputs": [
    {
     "name": "stdout",
     "output_type": "stream",
     "text": [
      "sdist = { url = \"https://files.pythonhosted.org/packages/e8/5d/447af5ea094b9e4c4054f82e223ada074c552335b9b4b2d14bd9b35a67c4/joblib-1.5.2.tar.gz\", hash = \"sha256:3faa5c39054b2f03ca547da9b2f52fde67c06240c31853f306aea97f13647b55\", size = 331077, upload-time = \"2025-08-27T12:15:46.575Z\" }\n"
     ]
    }
   ],
   "source": [
    "with open(\"uv.lock\", \"r\") as f:\n",
    "    for line in f:\n",
    "        if \"sha256\" in line:\n",
    "            print(line.strip())\n",
    "            break"
   ]
  },
  {
   "cell_type": "markdown",
   "id": "48d1c08f-61e6-43c3-adda-7c57912ab6b4",
   "metadata": {},
   "source": [
    "## Question 3\n",
    "\n",
    "Let's use the model!\n",
    "\n",
    "* Write a script for loading the pipeline with pickle\n",
    "* Score this record:\n",
    "\n",
    "```json\n",
    "{\n",
    "    \"lead_source\": \"paid_ads\",\n",
    "    \"number_of_courses_viewed\": 2,\n",
    "    \"annual_income\": 79276.0\n",
    "}\n",
    "```\n",
    "\n",
    "What's the probability that this lead will convert? \n",
    "\n",
    "* 0.333\n",
    "* 0.533\n",
    "* 0.733\n",
    "* 0.933\n",
    "\n",
    "If you're getting errors when unpickling the files, check their checksum:\n",
    "\n",
    "```bash\n",
    "$ md5sum pipeline_v1.bin\n",
    "7d17d2e4dfbaf1e408e1a62e6e880d49 *pipeline_v1.bin\n",
    "```\n"
   ]
  },
  {
   "cell_type": "code",
   "execution_count": 10,
   "id": "ce7653c1-5d08-498f-a331-6a06dd49c2d6",
   "metadata": {},
   "outputs": [
    {
     "name": "stdout",
     "output_type": "stream",
     "text": [
      "Probability that this lead will convert: 0.5336072702798061\n"
     ]
    }
   ],
   "source": [
    "!uv run python predict_one.py"
   ]
  },
  {
   "cell_type": "code",
   "execution_count": 11,
   "id": "dbc7db85-2d3e-44b2-b484-a34d967901d9",
   "metadata": {},
   "outputs": [
    {
     "name": "stdout",
     "output_type": "stream",
     "text": [
      "Probability that this lead will convert: 0.5336072702798061\n"
     ]
    }
   ],
   "source": [
    "!uv run python predict_two.py"
   ]
  },
  {
   "cell_type": "markdown",
   "id": "a402c850-db41-4f66-b813-b89af429130b",
   "metadata": {},
   "source": [
    "## Question 4\n",
    "\n",
    "Now let's serve this model as a web service\n",
    "\n",
    "* Install FastAPI\n",
    "* Write FastAPI code for serving the model\n",
    "* Now score this client using `requests`:\n",
    "\n",
    "```python\n",
    "url = \"YOUR_URL\"\n",
    "client = {\n",
    "    \"lead_source\": \"organic_search\",\n",
    "    \"number_of_courses_viewed\": 4,\n",
    "    \"annual_income\": 80304.0\n",
    "}\n",
    "requests.post(url, json=client).json()\n",
    "```\n",
    "\n",
    "What's the probability that this client will get a subscription?\n",
    "\n",
    "* 0.334\n",
    "* 0.534\n",
    "* 0.734\n",
    "* 0.934\n"
   ]
  },
  {
   "cell_type": "code",
   "execution_count": 14,
   "id": "3628150b-20bc-4bc9-af8d-c139b84b8bd9",
   "metadata": {},
   "outputs": [
    {
     "name": "stderr",
     "output_type": "stream",
     "text": [
      "\u001b[2mResolved \u001b[1m21 packages\u001b[0m \u001b[2min 9ms\u001b[0m\u001b[0m\n",
      "\u001b[2mAudited \u001b[1m20 packages\u001b[0m \u001b[2min 17ms\u001b[0m\u001b[0m\n"
     ]
    }
   ],
   "source": [
    "!uv add fastapi uvicorn"
   ]
  },
  {
   "cell_type": "code",
   "execution_count": 13,
   "id": "b1a8a70f-25ec-42c8-b42a-f82538146c3f",
   "metadata": {},
   "outputs": [
    {
     "name": "stdout",
     "output_type": "stream",
     "text": [
      "^C\n"
     ]
    }
   ],
   "source": [
    "!uv run uvicorn predict_service:app --reload\n"
   ]
  },
  {
   "cell_type": "code",
   "execution_count": 15,
   "id": "73b0f217-9b4d-42c9-a54a-5d3bb3b1609f",
   "metadata": {},
   "outputs": [
    {
     "name": "stdout",
     "output_type": "stream",
     "text": [
      "{'subscription_probability': 0.5340417283801275}\n"
     ]
    }
   ],
   "source": [
    "import requests\n",
    "\n",
    "url = \"http://127.0.0.1:8000/predict\"\n",
    "\n",
    "client = {\n",
    "    \"lead_source\": \"organic_search\",\n",
    "    \"number_of_courses_viewed\": 4,\n",
    "    \"annual_income\": 80304.0\n",
    "}\n",
    "\n",
    "response = requests.post(url, json=client)\n",
    "print(response.json())"
   ]
  },
  {
   "cell_type": "markdown",
   "id": "9eb3bdbe-5f0b-4004-9067-4978777a21ba",
   "metadata": {},
   "source": [
    "\n",
    "## Question 5\n",
    "\n",
    "Download the base image `agrigorev/zoomcamp-model:2025`. You can easily make it by using [docker pull](https://docs.docker.com/engine/reference/commandline/pull/) command.\n",
    "\n",
    "So what's the size of this base image?\n",
    "\n",
    "* 45 MB\n",
    "* 121 MB\n",
    "* 245 MB\n",
    "* 330 MB\n",
    "\n",
    "You can get this information when running `docker images` - it'll be in the \"SIZE\" column."
   ]
  },
  {
   "cell_type": "code",
   "execution_count": null,
   "id": "428a067b-ec5c-4b84-86e7-a22179e7d7e9",
   "metadata": {},
   "outputs": [],
   "source": []
  }
 ],
 "metadata": {
  "kernelspec": {
   "display_name": "Python 3 (ipykernel)",
   "language": "python",
   "name": "python3"
  },
  "language_info": {
   "codemirror_mode": {
    "name": "ipython",
    "version": 3
   },
   "file_extension": ".py",
   "mimetype": "text/x-python",
   "name": "python",
   "nbconvert_exporter": "python",
   "pygments_lexer": "ipython3",
   "version": "3.11.9"
  }
 },
 "nbformat": 4,
 "nbformat_minor": 5
}
